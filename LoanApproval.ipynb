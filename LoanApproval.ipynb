{
 "cells": [
  {
   "cell_type": "code",
   "execution_count": 1,
   "metadata": {},
   "outputs": [],
   "source": [
    "import numpy as np\n",
    "import pandas as pd"
   ]
  },
  {
   "cell_type": "code",
   "execution_count": 2,
   "metadata": {},
   "outputs": [],
   "source": [
    "data = pd.read_csv(\"Loan.csv\")\n",
    "data.dropna(inplace = True)"
   ]
  },
  {
   "cell_type": "code",
   "execution_count": 3,
   "metadata": {},
   "outputs": [],
   "source": [
    "Y = data.iloc[:,12]\n",
    "m = len(Y)\n",
    "Y = Y.values"
   ]
  },
  {
   "cell_type": "code",
   "execution_count": 4,
   "metadata": {},
   "outputs": [
    {
     "name": "stdout",
     "output_type": "stream",
     "text": [
      "  Gender Married Dependents     Education Self_Employed  ApplicantIncome  \\\n",
      "1   Male     Yes          1      Graduate            No             4583   \n",
      "2   Male     Yes          0      Graduate           Yes             3000   \n",
      "3   Male     Yes          0  Not Graduate            No             2583   \n",
      "4   Male      No          0      Graduate            No             6000   \n",
      "5   Male     Yes          2      Graduate           Yes             5417   \n",
      "6   Male     Yes          0  Not Graduate            No             2333   \n",
      "\n",
      "   CoapplicantIncome  LoanAmount  Loan_Amount_Term  Credit_History  \\\n",
      "1             1508.0       128.0             360.0             1.0   \n",
      "2                0.0        66.0             360.0             1.0   \n",
      "3             2358.0       120.0             360.0             1.0   \n",
      "4                0.0       141.0             360.0             1.0   \n",
      "5             4196.0       267.0             360.0             1.0   \n",
      "6             1516.0        95.0             360.0             1.0   \n",
      "\n",
      "  Property_Area  \n",
      "1         Rural  \n",
      "2         Urban  \n",
      "3         Urban  \n",
      "4         Urban  \n",
      "5         Urban  \n",
      "6         Urban  \n"
     ]
    }
   ],
   "source": [
    "X = data.iloc[:,1:12]\n",
    "print(X.head(6))"
   ]
  },
  {
   "cell_type": "code",
   "execution_count": 5,
   "metadata": {},
   "outputs": [
    {
     "name": "stdout",
     "output_type": "stream",
     "text": [
      "count    480.000000\n",
      "mean     144.735417\n",
      "std       80.508164\n",
      "min        9.000000\n",
      "25%      100.000000\n",
      "50%      128.000000\n",
      "75%      170.000000\n",
      "max      600.000000\n",
      "Name: LoanAmount, dtype: float64\n"
     ]
    }
   ],
   "source": [
    "print(X['LoanAmount'].describe())"
   ]
  },
  {
   "cell_type": "code",
   "execution_count": 6,
   "metadata": {},
   "outputs": [
    {
     "name": "stdout",
     "output_type": "stream",
     "text": [
      "count      480\n",
      "unique       2\n",
      "top       Male\n",
      "freq       394\n",
      "Name: Gender, dtype: object\n"
     ]
    }
   ],
   "source": [
    "print(X['Gender'].describe())"
   ]
  },
  {
   "cell_type": "code",
   "execution_count": 7,
   "metadata": {},
   "outputs": [
    {
     "name": "stdout",
     "output_type": "stream",
     "text": [
      "count     480\n",
      "unique      2\n",
      "top       Yes\n",
      "freq      311\n",
      "Name: Married, dtype: object\n"
     ]
    }
   ],
   "source": [
    "print(X['Married'].describe())"
   ]
  },
  {
   "cell_type": "code",
   "execution_count": 8,
   "metadata": {},
   "outputs": [
    {
     "name": "stdout",
     "output_type": "stream",
     "text": [
      "count    480.000000\n",
      "mean     342.050000\n",
      "std       65.212401\n",
      "min       36.000000\n",
      "25%      360.000000\n",
      "50%      360.000000\n",
      "75%      360.000000\n",
      "max      480.000000\n",
      "Name: Loan_Amount_Term, dtype: float64\n"
     ]
    }
   ],
   "source": [
    "print(X['Loan_Amount_Term'].describe())"
   ]
  },
  {
   "cell_type": "code",
   "execution_count": 9,
   "metadata": {},
   "outputs": [
    {
     "name": "stdout",
     "output_type": "stream",
     "text": [
      "count    480.000000\n",
      "mean       0.854167\n",
      "std        0.353307\n",
      "min        0.000000\n",
      "25%        1.000000\n",
      "50%        1.000000\n",
      "75%        1.000000\n",
      "max        1.000000\n",
      "Name: Credit_History, dtype: float64\n"
     ]
    }
   ],
   "source": [
    "print(X['Credit_History'].describe())"
   ]
  },
  {
   "cell_type": "code",
   "execution_count": 10,
   "metadata": {},
   "outputs": [
    {
     "name": "stdout",
     "output_type": "stream",
     "text": [
      "count      480.000000\n",
      "mean      1581.093583\n",
      "std       2617.692267\n",
      "min          0.000000\n",
      "25%          0.000000\n",
      "50%       1084.500000\n",
      "75%       2253.250000\n",
      "max      33837.000000\n",
      "Name: CoapplicantIncome, dtype: float64\n"
     ]
    }
   ],
   "source": [
    "print(X['CoapplicantIncome'].describe())"
   ]
  },
  {
   "cell_type": "code",
   "execution_count": 11,
   "metadata": {},
   "outputs": [
    {
     "name": "stdout",
     "output_type": "stream",
     "text": [
      "count          480\n",
      "unique           2\n",
      "top       Graduate\n",
      "freq           383\n",
      "Name: Education, dtype: object\n"
     ]
    }
   ],
   "source": [
    "print(X['Education'].describe())"
   ]
  },
  {
   "cell_type": "code",
   "execution_count": 12,
   "metadata": {},
   "outputs": [
    {
     "name": "stdout",
     "output_type": "stream",
     "text": [
      "count      480.000000\n",
      "mean      5364.231250\n",
      "std       5668.251251\n",
      "min        150.000000\n",
      "25%       2898.750000\n",
      "50%       3859.000000\n",
      "75%       5852.500000\n",
      "max      81000.000000\n",
      "Name: ApplicantIncome, dtype: float64\n"
     ]
    }
   ],
   "source": [
    "print(X['ApplicantIncome'].describe())"
   ]
  },
  {
   "cell_type": "code",
   "execution_count": 13,
   "metadata": {},
   "outputs": [
    {
     "name": "stdout",
     "output_type": "stream",
     "text": [
      "count     480\n",
      "unique      4\n",
      "top         0\n",
      "freq      274\n",
      "Name: Dependents, dtype: object\n"
     ]
    }
   ],
   "source": [
    "print(X['Dependents'].describe())"
   ]
  },
  {
   "cell_type": "code",
   "execution_count": 14,
   "metadata": {},
   "outputs": [
    {
     "name": "stdout",
     "output_type": "stream",
     "text": [
      "count     480\n",
      "unique      2\n",
      "top        No\n",
      "freq      414\n",
      "Name: Self_Employed, dtype: object\n"
     ]
    }
   ],
   "source": [
    "print(X['Self_Employed'].describe())"
   ]
  },
  {
   "cell_type": "code",
   "execution_count": 15,
   "metadata": {
    "scrolled": true
   },
   "outputs": [
    {
     "name": "stdout",
     "output_type": "stream",
     "text": [
      "   ApplicantIncome  CoapplicantIncome  LoanAmount  Loan_Amount_Term  \\\n",
      "1             4583             1508.0       128.0             360.0   \n",
      "2             3000                0.0        66.0             360.0   \n",
      "3             2583             2358.0       120.0             360.0   \n",
      "4             6000                0.0       141.0             360.0   \n",
      "5             5417             4196.0       267.0             360.0   \n",
      "6             2333             1516.0        95.0             360.0   \n",
      "\n",
      "   Credit_History  Property_Area  Gender_Female  Gender_Male  Married_No  \\\n",
      "1             1.0              1              0            1           0   \n",
      "2             1.0              3              0            1           0   \n",
      "3             1.0              3              0            1           0   \n",
      "4             1.0              3              0            1           1   \n",
      "5             1.0              3              0            1           0   \n",
      "6             1.0              3              0            1           0   \n",
      "\n",
      "   Married_Yes   ...     Dependents_2  Dependents_3+  Education_Graduate  \\\n",
      "1            1   ...                0              0                   1   \n",
      "2            1   ...                0              0                   1   \n",
      "3            1   ...                0              0                   0   \n",
      "4            0   ...                0              0                   1   \n",
      "5            1   ...                1              0                   1   \n",
      "6            1   ...                0              0                   0   \n",
      "\n",
      "   Education_Not Graduate  Self_Employed_No  Self_Employed_Yes  Total_Income  \\\n",
      "1                       0                 1                  0        6091.0   \n",
      "2                       0                 0                  1        3000.0   \n",
      "3                       1                 1                  0        4941.0   \n",
      "4                       0                 1                  0        6000.0   \n",
      "5                       0                 0                  1        9613.0   \n",
      "6                       1                 1                  0        3849.0   \n",
      "\n",
      "    Loan/Term  Loan/Income  Balance  \n",
      "1  355.555556    21.014612   5835.0  \n",
      "2  183.333333    22.000000   2868.0  \n",
      "3  333.333333    24.286582   4701.0  \n",
      "4  391.666667    23.500000   5718.0  \n",
      "5  741.666667    27.774888   9079.0  \n",
      "6  263.888889    24.681736   3659.0  \n",
      "\n",
      "[6 rows x 22 columns]\n"
     ]
    }
   ],
   "source": [
    "X['Property_Area'].replace(('Rural', 'Semiurban', 'Urban'), (1, 2, 3),inplace=True)\n",
    "X = pd.get_dummies(X)\n",
    "X[\"Total_Income\"] = X[\"ApplicantIncome\"] + X[\"CoapplicantIncome\"]\n",
    "X[\"Loan/Term\"] = X[\"LoanAmount\"]*1000/X[\"Loan_Amount_Term\"]\n",
    "X[\"Loan/Income\"] = X[\"LoanAmount\"]*1000/X[\"Total_Income\"]\n",
    "X[\"Balance\"] = X[\"Total_Income\"] - X[\"Loan/Term\"]*0.06*12\n",
    "print(X.head(6))\n",
    "X = X.values\n",
    "from sklearn.impute import SimpleImputer\n",
    "imp = SimpleImputer(missing_values=np.nan, strategy='median')\n",
    "imp.fit(X)\n",
    "X = imp.transform(X)"
   ]
  },
  {
   "cell_type": "code",
   "execution_count": 16,
   "metadata": {},
   "outputs": [
    {
     "name": "stdout",
     "output_type": "stream",
     "text": [
      "Number of training examples = 480\n",
      "Number of features = 22\n"
     ]
    }
   ],
   "source": [
    "m,n = X.shape\n",
    "print(\"Number of training examples =\",m)\n",
    "print(\"Number of features =\",n)"
   ]
  },
  {
   "cell_type": "code",
   "execution_count": 17,
   "metadata": {},
   "outputs": [
    {
     "data": {
      "text/plain": [
       "LogisticRegression(C=0.1, class_weight=None, dual=False, fit_intercept=True,\n",
       "          intercept_scaling=1, max_iter=10000, multi_class='warn',\n",
       "          n_jobs=None, penalty='l2', random_state=None, solver='newton-cg',\n",
       "          tol=1.0, verbose=0, warm_start=False)"
      ]
     },
     "execution_count": 17,
     "metadata": {},
     "output_type": "execute_result"
    }
   ],
   "source": [
    "from sklearn.linear_model import LogisticRegression\n",
    "lr = LogisticRegression(C = 0.1,max_iter = 10000,solver = 'newton-cg',tol = 1e-0)\n",
    "lr.fit(X,Y)"
   ]
  },
  {
   "cell_type": "code",
   "execution_count": 18,
   "metadata": {},
   "outputs": [
    {
     "name": "stdout",
     "output_type": "stream",
     "text": [
      "Training set accuracy =  81.04166666666667\n"
     ]
    }
   ],
   "source": [
    "score = lr.score(X, Y)\n",
    "print(\"Training set accuracy = \",score*100)"
   ]
  },
  {
   "cell_type": "markdown",
   "metadata": {},
   "source": [
    "Test set accuracy = 79.1667"
   ]
  },
  {
   "cell_type": "code",
   "execution_count": null,
   "metadata": {},
   "outputs": [],
   "source": []
  },
  {
   "cell_type": "code",
   "execution_count": 19,
   "metadata": {},
   "outputs": [],
   "source": [
    "dat = pd.read_csv(\"Test.csv\")\n",
    "X1 = dat.iloc[:,1:12]\n",
    "X2 = dat.iloc[:,0]\n",
    "X1['Property_Area'].replace(('Rural', 'Semiurban', 'Urban'), (1, 2, 3),inplace=True)\n",
    "X1 = pd.get_dummies(X1)\n",
    "X1[\"Total_Income\"] = X1[\"ApplicantIncome\"] + X1[\"CoapplicantIncome\"]\n",
    "X1[\"Loan/Term\"] = X1[\"LoanAmount\"]*1000/X1[\"Loan_Amount_Term\"]\n",
    "X1[\"Loan/Income\"] = X1[\"LoanAmount\"]*1000/X1[\"Total_Income\"]\n",
    "X1[\"Balance\"] = X1[\"Total_Income\"] - X1[\"Loan/Term\"]*0.06*12\n",
    "X1 = X1.values\n",
    "from sklearn.impute import SimpleImputer\n",
    "imp = SimpleImputer(missing_values=np.nan, strategy='median')\n",
    "imp.fit(X1)\n",
    "X1 = imp.transform(X1)"
   ]
  },
  {
   "cell_type": "code",
   "execution_count": 20,
   "metadata": {},
   "outputs": [],
   "source": [
    "predict = lr.predict(X1)"
   ]
  },
  {
   "cell_type": "code",
   "execution_count": 21,
   "metadata": {},
   "outputs": [],
   "source": [
    "pd.DataFrame({'Loan_ID':X2,'Loan_Status':predict}).to_csv('Submission.csv',index=False)"
   ]
  },
  {
   "cell_type": "code",
   "execution_count": null,
   "metadata": {},
   "outputs": [],
   "source": []
  },
  {
   "cell_type": "code",
   "execution_count": null,
   "metadata": {},
   "outputs": [],
   "source": []
  }
 ],
 "metadata": {
  "kernelspec": {
   "display_name": "Python 3",
   "language": "python",
   "name": "python3"
  },
  "language_info": {
   "codemirror_mode": {
    "name": "ipython",
    "version": 3
   },
   "file_extension": ".py",
   "mimetype": "text/x-python",
   "name": "python",
   "nbconvert_exporter": "python",
   "pygments_lexer": "ipython3",
   "version": "3.6.6"
  }
 },
 "nbformat": 4,
 "nbformat_minor": 2
}
